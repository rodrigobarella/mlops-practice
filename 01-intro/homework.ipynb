{
 "cells": [
  {
   "cell_type": "code",
   "execution_count": 1,
   "id": "4390eeb3-0bd3-4d13-86c8-93cc9e25c27a",
   "metadata": {},
   "outputs": [],
   "source": [
    "import pandas as pd\n",
    "import datetime as dt\n",
    "import numpy as np\n",
    "from sklearn.linear_model import LinearRegression\n",
    "from sklearn.feature_extraction import DictVectorizer\n",
    "from sklearn.metrics import root_mean_squared_error"
   ]
  },
  {
   "cell_type": "code",
   "execution_count": 2,
   "id": "847e14d2-0df7-41c1-b989-776cad66c887",
   "metadata": {},
   "outputs": [],
   "source": [
    "configs = {\n",
    "    \"jan_path\": \"https://d37ci6vzurychx.cloudfront.net/trip-data/yellow_tripdata_2023-01.parquet\",\n",
    "    \"feb_path\": \"https://d37ci6vzurychx.cloudfront.net/trip-data/yellow_tripdata_2023-02.parquet\",\n",
    "    \"categorical_features\": ['PULocationID', 'DOLocationID'],\n",
    "    \"target\": \"duration\"\n",
    "}"
   ]
  },
  {
   "cell_type": "code",
   "execution_count": 3,
   "id": "f18fc94f-3ca1-4fa2-9a92-c8f21cc403c9",
   "metadata": {},
   "outputs": [],
   "source": [
    "def prepare_data(path:str, clean_duration_outliers: bool = True) -> pd.DataFrame:\n",
    "\n",
    "    \"\"\"\n",
    "    Runs a basic training/validation pipeline\n",
    "    \n",
    "    Parameters:\n",
    "    -----------\n",
    "    \n",
    "    path: indicates the path of the data\n",
    "    clean_duration_outliers: keeps only durations between 1 and 60 minutes\n",
    "\n",
    "    \"\"\"\n",
    "    \n",
    "    df = pd.read_parquet(path)\n",
    "    df['duration'] = (df['tpep_dropoff_datetime'] - df['tpep_pickup_datetime']).dt.seconds/60\n",
    "    df[configs[\"categorical_features\"]] = df[configs[\"categorical_features\"]].astype(str)\n",
    "\n",
    "    if mode == \"train\":\n",
    "        l_before = df.shape[0]\n",
    "        mask = df['duration'].between(1,60)\n",
    "        df = df.loc[mask]\n",
    "        l_after = df.shape[0]\n",
    "        lost_records = l_before - l_after\n",
    "        frac = (1-lost_records/l_before)*100\n",
    "        \n",
    "        print(f\"removing outliers in duration resulted in {lost_records} lost records. {round(frac,2)}% of original data are available now\")            \n",
    "    return df\n",
    "        "
   ]
  },
  {
   "cell_type": "code",
   "execution_count": 4,
   "id": "16117a00-0d31-482a-b60c-69ebc849c2f1",
   "metadata": {},
   "outputs": [
    {
     "name": "stdout",
     "output_type": "stream",
     "text": [
      "removing outliers in duration resulted in 57590 lost records. 98.12% of original data are available now\n"
     ]
    }
   ],
   "source": [
    "train = prepare_data(path=configs[\"jan_path\"], clean_duration_outliers=True)"
   ]
  },
  {
   "cell_type": "code",
   "execution_count": 5,
   "id": "e1fdca9a-a471-40b4-99ae-07eb14008b91",
   "metadata": {},
   "outputs": [],
   "source": [
    "train_dicts = train[configs[\"categorical_features\"]].to_dict(orient='records')\n",
    "dv = DictVectorizer()\n",
    "X_train = dv.fit_transform(train_dicts)\n",
    "y_train = train[configs[\"target\"]].values"
   ]
  },
  {
   "cell_type": "code",
   "execution_count": 6,
   "id": "c1f16db1-f20d-4d2d-8ebe-f9612d9ce9d2",
   "metadata": {},
   "outputs": [
    {
     "data": {
      "text/plain": [
       "7.649261254600018"
      ]
     },
     "execution_count": 6,
     "metadata": {},
     "output_type": "execute_result"
    }
   ],
   "source": [
    "lr = LinearRegression()\n",
    "lr.fit(X_train, y_train)\n",
    "\n",
    "y_pred = lr.predict(X_train)\n",
    "root_mean_squared_error(y_train, y_pred)"
   ]
  },
  {
   "cell_type": "code",
   "execution_count": 15,
   "id": "b152fe2e-8f42-4315-a450-a224214e8c94",
   "metadata": {},
   "outputs": [],
   "source": [
    "val = prepare_data(path=configs[\"feb_path\"], clean_duration_outliers=True)\n",
    "val_dicts = val[configs[\"categorical_features\"]].to_dict(orient='records')\n",
    "X_val = dv.transform(val_dicts)\n",
    "y_val = val[configs[\"target\"]].values"
   ]
  },
  {
   "cell_type": "code",
   "execution_count": 16,
   "id": "aa8df645-ac30-4d65-bd50-eb4fc3f373d0",
   "metadata": {},
   "outputs": [],
   "source": [
    "y_pred = lr.predict(X_val)"
   ]
  },
  {
   "cell_type": "code",
   "execution_count": 17,
   "id": "c961a5d4-8952-44df-afc1-9dd2f344df71",
   "metadata": {},
   "outputs": [
    {
     "data": {
      "text/plain": [
       "7.811813468409544"
      ]
     },
     "execution_count": 17,
     "metadata": {},
     "output_type": "execute_result"
    }
   ],
   "source": [
    "root_mean_squared_error(y_val, y_pred)"
   ]
  }
 ],
 "metadata": {
  "kernelspec": {
   "display_name": "Python 3 (ipykernel)",
   "language": "python",
   "name": "python3"
  },
  "language_info": {
   "codemirror_mode": {
    "name": "ipython",
    "version": 3
   },
   "file_extension": ".py",
   "mimetype": "text/x-python",
   "name": "python",
   "nbconvert_exporter": "python",
   "pygments_lexer": "ipython3",
   "version": "3.13.2"
  }
 },
 "nbformat": 4,
 "nbformat_minor": 5
}
